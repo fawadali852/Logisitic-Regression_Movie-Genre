{
 "cells": [
  {
   "cell_type": "markdown",
   "id": "765e2513-f35e-4f4a-9519-2d1e412845d0",
   "metadata": {},
   "source": [
    "### Importing Data\n",
    "####"
   ]
  },
  {
   "cell_type": "code",
   "execution_count": 1,
   "id": "9c1ae4b0-784d-48b9-96a8-46f0582fb82e",
   "metadata": {},
   "outputs": [],
   "source": [
    "import pandas as pd"
   ]
  },
  {
   "cell_type": "code",
   "execution_count": 2,
   "id": "da0d0473-2b63-4bc4-901e-6c75e8d96ff7",
   "metadata": {},
   "outputs": [],
   "source": [
    "train_df = pd.read_csv('train_data.csv', delimiter=' ::: ',header= None ,engine='python', names=['Title', 'Genre', 'Description'])"
   ]
  },
  {
   "cell_type": "code",
   "execution_count": 3,
   "id": "2b142b63-6068-4e4c-99f4-cc67f3c52232",
   "metadata": {},
   "outputs": [
    {
     "data": {
      "text/html": [
       "<div>\n",
       "<style scoped>\n",
       "    .dataframe tbody tr th:only-of-type {\n",
       "        vertical-align: middle;\n",
       "    }\n",
       "\n",
       "    .dataframe tbody tr th {\n",
       "        vertical-align: top;\n",
       "    }\n",
       "\n",
       "    .dataframe thead th {\n",
       "        text-align: right;\n",
       "    }\n",
       "</style>\n",
       "<table border=\"1\" class=\"dataframe\">\n",
       "  <thead>\n",
       "    <tr style=\"text-align: right;\">\n",
       "      <th></th>\n",
       "      <th>Title</th>\n",
       "      <th>Genre</th>\n",
       "      <th>Description</th>\n",
       "    </tr>\n",
       "  </thead>\n",
       "  <tbody>\n",
       "    <tr>\n",
       "      <th>1</th>\n",
       "      <td>Oscar et la dame rose (2009)</td>\n",
       "      <td>drama</td>\n",
       "      <td>Listening in to a conversation between his doc...</td>\n",
       "    </tr>\n",
       "    <tr>\n",
       "      <th>2</th>\n",
       "      <td>Cupid (1997)</td>\n",
       "      <td>thriller</td>\n",
       "      <td>A brother and sister with a past incestuous re...</td>\n",
       "    </tr>\n",
       "    <tr>\n",
       "      <th>3</th>\n",
       "      <td>Young, Wild and Wonderful (1980)</td>\n",
       "      <td>adult</td>\n",
       "      <td>As the bus empties the students for their fiel...</td>\n",
       "    </tr>\n",
       "    <tr>\n",
       "      <th>4</th>\n",
       "      <td>The Secret Sin (1915)</td>\n",
       "      <td>drama</td>\n",
       "      <td>To help their unemployed father make ends meet...</td>\n",
       "    </tr>\n",
       "    <tr>\n",
       "      <th>5</th>\n",
       "      <td>The Unrecovered (2007)</td>\n",
       "      <td>drama</td>\n",
       "      <td>The film's title refers not only to the un-rec...</td>\n",
       "    </tr>\n",
       "    <tr>\n",
       "      <th>...</th>\n",
       "      <td>...</td>\n",
       "      <td>...</td>\n",
       "      <td>...</td>\n",
       "    </tr>\n",
       "    <tr>\n",
       "      <th>54210</th>\n",
       "      <td>\"Bonino\" (1953)</td>\n",
       "      <td>comedy</td>\n",
       "      <td>This short-lived NBC live sitcom centered on B...</td>\n",
       "    </tr>\n",
       "    <tr>\n",
       "      <th>54211</th>\n",
       "      <td>Dead Girls Don't Cry (????)</td>\n",
       "      <td>horror</td>\n",
       "      <td>The NEXT Generation of EXPLOITATION. The siste...</td>\n",
       "    </tr>\n",
       "    <tr>\n",
       "      <th>54212</th>\n",
       "      <td>Ronald Goedemondt: Ze bestaan echt (2008)</td>\n",
       "      <td>documentary</td>\n",
       "      <td>Ze bestaan echt, is a stand-up comedy about gr...</td>\n",
       "    </tr>\n",
       "    <tr>\n",
       "      <th>54213</th>\n",
       "      <td>Make Your Own Bed (1944)</td>\n",
       "      <td>comedy</td>\n",
       "      <td>Walter and Vivian live in the country and have...</td>\n",
       "    </tr>\n",
       "    <tr>\n",
       "      <th>54214</th>\n",
       "      <td>Nature's Fury: Storm of the Century (2006)</td>\n",
       "      <td>history</td>\n",
       "      <td>On Labor Day Weekend, 1935, the most intense h...</td>\n",
       "    </tr>\n",
       "  </tbody>\n",
       "</table>\n",
       "<p>54214 rows × 3 columns</p>\n",
       "</div>"
      ],
      "text/plain": [
       "                                            Title        Genre  \\\n",
       "1                    Oscar et la dame rose (2009)        drama   \n",
       "2                                    Cupid (1997)     thriller   \n",
       "3                Young, Wild and Wonderful (1980)        adult   \n",
       "4                           The Secret Sin (1915)        drama   \n",
       "5                          The Unrecovered (2007)        drama   \n",
       "...                                           ...          ...   \n",
       "54210                             \"Bonino\" (1953)       comedy   \n",
       "54211                 Dead Girls Don't Cry (????)       horror   \n",
       "54212   Ronald Goedemondt: Ze bestaan echt (2008)  documentary   \n",
       "54213                    Make Your Own Bed (1944)       comedy   \n",
       "54214  Nature's Fury: Storm of the Century (2006)      history   \n",
       "\n",
       "                                             Description  \n",
       "1      Listening in to a conversation between his doc...  \n",
       "2      A brother and sister with a past incestuous re...  \n",
       "3      As the bus empties the students for their fiel...  \n",
       "4      To help their unemployed father make ends meet...  \n",
       "5      The film's title refers not only to the un-rec...  \n",
       "...                                                  ...  \n",
       "54210  This short-lived NBC live sitcom centered on B...  \n",
       "54211  The NEXT Generation of EXPLOITATION. The siste...  \n",
       "54212  Ze bestaan echt, is a stand-up comedy about gr...  \n",
       "54213  Walter and Vivian live in the country and have...  \n",
       "54214  On Labor Day Weekend, 1935, the most intense h...  \n",
       "\n",
       "[54214 rows x 3 columns]"
      ]
     },
     "execution_count": 3,
     "metadata": {},
     "output_type": "execute_result"
    }
   ],
   "source": [
    "train_df"
   ]
  },
  {
   "cell_type": "code",
   "execution_count": 4,
   "id": "1be8570a-f986-4838-96e8-d13bba9fb09f",
   "metadata": {},
   "outputs": [],
   "source": [
    "test_df = pd.read_csv('test_data.csv', delimiter=' ::: ',header= None ,engine='python', names=['Title','Description'])"
   ]
  },
  {
   "cell_type": "code",
   "execution_count": 5,
   "id": "cd60f311-7241-4643-9913-0c9b426d9210",
   "metadata": {},
   "outputs": [
    {
     "data": {
      "text/html": [
       "<div>\n",
       "<style scoped>\n",
       "    .dataframe tbody tr th:only-of-type {\n",
       "        vertical-align: middle;\n",
       "    }\n",
       "\n",
       "    .dataframe tbody tr th {\n",
       "        vertical-align: top;\n",
       "    }\n",
       "\n",
       "    .dataframe thead th {\n",
       "        text-align: right;\n",
       "    }\n",
       "</style>\n",
       "<table border=\"1\" class=\"dataframe\">\n",
       "  <thead>\n",
       "    <tr style=\"text-align: right;\">\n",
       "      <th></th>\n",
       "      <th>Title</th>\n",
       "      <th>Description</th>\n",
       "    </tr>\n",
       "  </thead>\n",
       "  <tbody>\n",
       "    <tr>\n",
       "      <th>1</th>\n",
       "      <td>Edgar's Lunch (1998)</td>\n",
       "      <td>L.R. Brane loves his life - his car, his apart...</td>\n",
       "    </tr>\n",
       "    <tr>\n",
       "      <th>2</th>\n",
       "      <td>La guerra de papá (1977)</td>\n",
       "      <td>Spain, March 1964: Quico is a very naughty chi...</td>\n",
       "    </tr>\n",
       "    <tr>\n",
       "      <th>3</th>\n",
       "      <td>Off the Beaten Track (2010)</td>\n",
       "      <td>One year in the life of Albin and his family o...</td>\n",
       "    </tr>\n",
       "    <tr>\n",
       "      <th>4</th>\n",
       "      <td>Meu Amigo Hindu (2015)</td>\n",
       "      <td>His father has died, he hasn't spoken with his...</td>\n",
       "    </tr>\n",
       "    <tr>\n",
       "      <th>5</th>\n",
       "      <td>Er nu zhai (1955)</td>\n",
       "      <td>Before he was known internationally as a marti...</td>\n",
       "    </tr>\n",
       "    <tr>\n",
       "      <th>...</th>\n",
       "      <td>...</td>\n",
       "      <td>...</td>\n",
       "    </tr>\n",
       "    <tr>\n",
       "      <th>54196</th>\n",
       "      <td>\"Tales of Light &amp; Dark\" (2013)</td>\n",
       "      <td>Covering multiple genres, Tales of Light &amp; Dar...</td>\n",
       "    </tr>\n",
       "    <tr>\n",
       "      <th>54197</th>\n",
       "      <td>Der letzte Mohikaner (1965)</td>\n",
       "      <td>As Alice and Cora Munro attempt to find their ...</td>\n",
       "    </tr>\n",
       "    <tr>\n",
       "      <th>54198</th>\n",
       "      <td>Oliver Twink (2007)</td>\n",
       "      <td>A movie 169 years in the making. Oliver Twist,...</td>\n",
       "    </tr>\n",
       "    <tr>\n",
       "      <th>54199</th>\n",
       "      <td>Slipstream (1973)</td>\n",
       "      <td>Popular, but mysterious rock D.J Mike Mallard ...</td>\n",
       "    </tr>\n",
       "    <tr>\n",
       "      <th>54200</th>\n",
       "      <td>Curitiba Zero Grau (2010)</td>\n",
       "      <td>Curitiba is a city in movement, with rhythms a...</td>\n",
       "    </tr>\n",
       "  </tbody>\n",
       "</table>\n",
       "<p>54200 rows × 2 columns</p>\n",
       "</div>"
      ],
      "text/plain": [
       "                                Title  \\\n",
       "1                Edgar's Lunch (1998)   \n",
       "2            La guerra de papá (1977)   \n",
       "3         Off the Beaten Track (2010)   \n",
       "4              Meu Amigo Hindu (2015)   \n",
       "5                   Er nu zhai (1955)   \n",
       "...                               ...   \n",
       "54196  \"Tales of Light & Dark\" (2013)   \n",
       "54197     Der letzte Mohikaner (1965)   \n",
       "54198             Oliver Twink (2007)   \n",
       "54199               Slipstream (1973)   \n",
       "54200       Curitiba Zero Grau (2010)   \n",
       "\n",
       "                                             Description  \n",
       "1      L.R. Brane loves his life - his car, his apart...  \n",
       "2      Spain, March 1964: Quico is a very naughty chi...  \n",
       "3      One year in the life of Albin and his family o...  \n",
       "4      His father has died, he hasn't spoken with his...  \n",
       "5      Before he was known internationally as a marti...  \n",
       "...                                                  ...  \n",
       "54196  Covering multiple genres, Tales of Light & Dar...  \n",
       "54197  As Alice and Cora Munro attempt to find their ...  \n",
       "54198  A movie 169 years in the making. Oliver Twist,...  \n",
       "54199  Popular, but mysterious rock D.J Mike Mallard ...  \n",
       "54200  Curitiba is a city in movement, with rhythms a...  \n",
       "\n",
       "[54200 rows x 2 columns]"
      ]
     },
     "execution_count": 5,
     "metadata": {},
     "output_type": "execute_result"
    }
   ],
   "source": [
    "test_df"
   ]
  },
  {
   "cell_type": "markdown",
   "id": "400fcccb-32d9-425e-9c67-472d6eb89a2b",
   "metadata": {},
   "source": [
    "#### Data Essentials"
   ]
  },
  {
   "cell_type": "code",
   "execution_count": 6,
   "id": "23e55de8-9a45-42db-ad46-fb1ff6e01370",
   "metadata": {},
   "outputs": [
    {
     "data": {
      "text/plain": [
       "(54214, 3)"
      ]
     },
     "execution_count": 6,
     "metadata": {},
     "output_type": "execute_result"
    }
   ],
   "source": [
    "train_df.shape"
   ]
  },
  {
   "cell_type": "code",
   "execution_count": 7,
   "id": "a05b778f-c6a0-4f4d-a1ba-978e74df282c",
   "metadata": {},
   "outputs": [
    {
     "data": {
      "text/plain": [
       "54214"
      ]
     },
     "execution_count": 7,
     "metadata": {},
     "output_type": "execute_result"
    }
   ],
   "source": [
    "rows=len(train_df)\n",
    "rows"
   ]
  },
  {
   "cell_type": "code",
   "execution_count": 8,
   "id": "d3d0d4ba-ac03-4377-99ed-52a65cc8d506",
   "metadata": {},
   "outputs": [
    {
     "data": {
      "text/plain": [
       "3"
      ]
     },
     "execution_count": 8,
     "metadata": {},
     "output_type": "execute_result"
    }
   ],
   "source": [
    "cols=len(train_df.columns)\n",
    "cols"
   ]
  },
  {
   "cell_type": "code",
   "execution_count": 9,
   "id": "1ac18a43-71e1-4ecd-853e-2f8d6d5f0310",
   "metadata": {},
   "outputs": [
    {
     "name": "stdout",
     "output_type": "stream",
     "text": [
      "The dataset contains 54214 rows and 3 columns\n"
     ]
    }
   ],
   "source": [
    "print('The dataset contains {} rows and {} columns'.format(rows,cols))"
   ]
  },
  {
   "cell_type": "code",
   "execution_count": 10,
   "id": "a63b6f92-07fa-4b5b-b121-b98a4e5751b6",
   "metadata": {},
   "outputs": [
    {
     "name": "stdout",
     "output_type": "stream",
     "text": [
      "<class 'pandas.core.frame.DataFrame'>\n",
      "Int64Index: 54214 entries, 1 to 54214\n",
      "Data columns (total 3 columns):\n",
      " #   Column       Non-Null Count  Dtype \n",
      "---  ------       --------------  ----- \n",
      " 0   Title        54214 non-null  object\n",
      " 1   Genre        54214 non-null  object\n",
      " 2   Description  54214 non-null  object\n",
      "dtypes: object(3)\n",
      "memory usage: 1.7+ MB\n"
     ]
    }
   ],
   "source": [
    "train_df.info()"
   ]
  },
  {
   "cell_type": "code",
   "execution_count": 11,
   "id": "cefb1a09-182a-4a7e-a7ca-d995a501e3ad",
   "metadata": {},
   "outputs": [
    {
     "data": {
      "text/html": [
       "<div>\n",
       "<style scoped>\n",
       "    .dataframe tbody tr th:only-of-type {\n",
       "        vertical-align: middle;\n",
       "    }\n",
       "\n",
       "    .dataframe tbody tr th {\n",
       "        vertical-align: top;\n",
       "    }\n",
       "\n",
       "    .dataframe thead th {\n",
       "        text-align: right;\n",
       "    }\n",
       "</style>\n",
       "<table border=\"1\" class=\"dataframe\">\n",
       "  <thead>\n",
       "    <tr style=\"text-align: right;\">\n",
       "      <th></th>\n",
       "      <th>Title</th>\n",
       "      <th>Genre</th>\n",
       "      <th>Description</th>\n",
       "    </tr>\n",
       "  </thead>\n",
       "  <tbody>\n",
       "    <tr>\n",
       "      <th>count</th>\n",
       "      <td>54214</td>\n",
       "      <td>54214</td>\n",
       "      <td>54214</td>\n",
       "    </tr>\n",
       "    <tr>\n",
       "      <th>unique</th>\n",
       "      <td>54214</td>\n",
       "      <td>27</td>\n",
       "      <td>54086</td>\n",
       "    </tr>\n",
       "    <tr>\n",
       "      <th>top</th>\n",
       "      <td>Oscar et la dame rose (2009)</td>\n",
       "      <td>drama</td>\n",
       "      <td>Grammy - music award of the American academy o...</td>\n",
       "    </tr>\n",
       "    <tr>\n",
       "      <th>freq</th>\n",
       "      <td>1</td>\n",
       "      <td>13613</td>\n",
       "      <td>12</td>\n",
       "    </tr>\n",
       "  </tbody>\n",
       "</table>\n",
       "</div>"
      ],
      "text/plain": [
       "                               Title  Genre  \\\n",
       "count                          54214  54214   \n",
       "unique                         54214     27   \n",
       "top     Oscar et la dame rose (2009)  drama   \n",
       "freq                               1  13613   \n",
       "\n",
       "                                              Description  \n",
       "count                                               54214  \n",
       "unique                                              54086  \n",
       "top     Grammy - music award of the American academy o...  \n",
       "freq                                                   12  "
      ]
     },
     "execution_count": 11,
     "metadata": {},
     "output_type": "execute_result"
    }
   ],
   "source": [
    "train_df.describe()"
   ]
  },
  {
   "cell_type": "code",
   "execution_count": 12,
   "id": "a14f627f-f797-4c62-ab1e-502f883d244d",
   "metadata": {},
   "outputs": [
    {
     "data": {
      "text/plain": [
       "Title          0\n",
       "Genre          0\n",
       "Description    0\n",
       "dtype: int64"
      ]
     },
     "execution_count": 12,
     "metadata": {},
     "output_type": "execute_result"
    }
   ],
   "source": [
    "train_df.isna().sum()"
   ]
  },
  {
   "cell_type": "markdown",
   "id": "4f6282ef-b64d-4d56-87f0-0393abfa5d9d",
   "metadata": {},
   "source": [
    "##### To check the duplicate values"
   ]
  },
  {
   "cell_type": "code",
   "execution_count": 13,
   "id": "a405994c-4190-41b7-a5b5-e6b6a50e2344",
   "metadata": {},
   "outputs": [
    {
     "data": {
      "text/plain": [
       "0"
      ]
     },
     "execution_count": 13,
     "metadata": {},
     "output_type": "execute_result"
    }
   ],
   "source": [
    "train_df.duplicated().sum()"
   ]
  },
  {
   "cell_type": "markdown",
   "id": "709cdff6-ed79-4259-8edb-6e79beb8883b",
   "metadata": {},
   "source": [
    "### Data Preprocessing\n",
    "####"
   ]
  },
  {
   "cell_type": "code",
   "execution_count": 14,
   "id": "85bc957d-df7a-48d8-ba7a-4e05149754e9",
   "metadata": {},
   "outputs": [],
   "source": [
    "import numpy as np\n",
    "import matplotlib.pyplot as plt\n",
    "import seaborn as sns"
   ]
  },
  {
   "cell_type": "code",
   "execution_count": 15,
   "id": "5a590607-8a67-458c-810f-f291f1db1e00",
   "metadata": {},
   "outputs": [
    {
     "name": "stderr",
     "output_type": "stream",
     "text": [
      "[nltk_data] Downloading package wordnet to\n",
      "[nltk_data]     C:\\Users\\User\\AppData\\Roaming\\nltk_data...\n",
      "[nltk_data]   Package wordnet is already up-to-date!\n"
     ]
    },
    {
     "data": {
      "text/plain": [
       "True"
      ]
     },
     "execution_count": 15,
     "metadata": {},
     "output_type": "execute_result"
    }
   ],
   "source": [
    "import re\n",
    "import string\n",
    "import nltk\n",
    "from nltk.corpus import stopwords\n",
    "from nltk.stem import LancasterStemmer\n",
    "from collections import Counter\n",
    "import sklearn\n",
    "from sklearn.model_selection import train_test_split\n",
    "from sklearn.preprocessing import LabelEncoder\n",
    "from sklearn.metrics import classification_report, accuracy_score\n",
    "import tensorflow\n",
    "from tensorflow.keras.preprocessing.sequence import pad_sequences\n",
    "from tensorflow.keras.preprocessing.text import Tokenizer\n",
    "from tensorflow.keras.models import Sequential\n",
    "from tensorflow.keras.layers import Embedding, LSTM, Dense, Dropout, SpatialDropout1D\n",
    "from tensorflow.keras.callbacks import EarlyStopping\n",
    "\n",
    "\n",
    "\n",
    "from nltk.stem import WordNetLemmatizer\n",
    "from nltk.corpus import stopwords\n",
    "nltk.download('wordnet')"
   ]
  },
  {
   "cell_type": "code",
   "execution_count": 16,
   "id": "83ec9718-0415-46da-8621-1ac43a969849",
   "metadata": {},
   "outputs": [
    {
     "name": "stderr",
     "output_type": "stream",
     "text": [
      "[nltk_data] Downloading package stopwords to\n",
      "[nltk_data]     C:\\Users\\User\\AppData\\Roaming\\nltk_data...\n",
      "[nltk_data]   Package stopwords is already up-to-date!\n"
     ]
    },
    {
     "data": {
      "text/plain": [
       "True"
      ]
     },
     "execution_count": 16,
     "metadata": {},
     "output_type": "execute_result"
    }
   ],
   "source": [
    "nltk.download('stopwords') ##NLTK to download stopwords"
   ]
  },
  {
   "cell_type": "code",
   "execution_count": 17,
   "id": "84de0a41-5cd9-466b-96c9-8a70fd4d9298",
   "metadata": {},
   "outputs": [
    {
     "name": "stderr",
     "output_type": "stream",
     "text": [
      "[nltk_data] Downloading package punkt to\n",
      "[nltk_data]     C:\\Users\\User\\AppData\\Roaming\\nltk_data...\n",
      "[nltk_data]   Package punkt is already up-to-date!\n"
     ]
    },
    {
     "data": {
      "text/plain": [
       "True"
      ]
     },
     "execution_count": 17,
     "metadata": {},
     "output_type": "execute_result"
    }
   ],
   "source": [
    "nltk.download('punkt')"
   ]
  },
  {
   "cell_type": "code",
   "execution_count": 18,
   "id": "db7ab4e7-e885-427e-8c48-cef37e6c2c7f",
   "metadata": {},
   "outputs": [
    {
     "name": "stderr",
     "output_type": "stream",
     "text": [
      "[nltk_data] Downloading package wordnet to\n",
      "[nltk_data]     C:\\Users\\User\\AppData\\Roaming\\nltk_data...\n",
      "[nltk_data]   Package wordnet is already up-to-date!\n"
     ]
    },
    {
     "data": {
      "text/plain": [
       "True"
      ]
     },
     "execution_count": 18,
     "metadata": {},
     "output_type": "execute_result"
    }
   ],
   "source": [
    "nltk.download('wordnet')"
   ]
  },
  {
   "cell_type": "code",
   "execution_count": 19,
   "id": "540f8ba2-f7a8-4314-bb08-51fe9fd43338",
   "metadata": {},
   "outputs": [
    {
     "name": "stdout",
     "output_type": "stream",
     "text": [
      "Original text: Certainly you get a dramatic boost from hello bye the the hi -iv iem-k q934*2yee !*3 2e38\n",
      "Simple Cleaned text: certainly get dramatic boost hello bye hi iv iemk yee\n"
     ]
    }
   ],
   "source": [
    "\n",
    "\n",
    "input_text = \"Certainly you get a dramatic boost from hello bye the the hi -iv iem-k q934*2yee !*3 2e38\"\n",
    "print(f'Original text: {input_text}')\n",
    "stopword = set(stopwords.words('english'))\n",
    "\n",
    "def preprocessing(text):\n",
    "    # Convert text to lowercase\n",
    "    text = text.lower()\n",
    "    \n",
    "    # Remove punctuation using regular expressions\n",
    "    text = re.sub(r'[^\\w\\s]', '', text)\n",
    "    \n",
    "    # Remove specific characters #, @, and $\n",
    "    text = re.sub(r'[#@\\$]', '', text)\n",
    "\n",
    "     # remove digits\n",
    "    text = re.sub(f'[{string.digits}]',' ',text) \n",
    "    \n",
    "    # tokenize and convert to list\n",
    "    tokens = nltk.tokenize.word_tokenize(text)\n",
    "\n",
    "\n",
    "    text =  re.sub(r'pic.\\S+', '',text) \n",
    "    text = re.sub(r'\\s+[a-zA-Z]\\s+', ' ',text+' ')      # keep words with length>1 only\n",
    "\n",
    "    \n",
    "    ## Lemmatize it \n",
    "    lemmatizer  = WordNetLemmatizer()\n",
    "    \n",
    "    ## lemmatize each token\n",
    "   # text = [lemmatizer.lemmatize(token) for token in tokens]\n",
    "    text = text.split()\n",
    "    \n",
    "    text = [word for word in text if word not in stopword]\n",
    "    \n",
    "    \n",
    "    return \" \".join(text) \n",
    "\n",
    "# Test your cleaning function\n",
    "#input_text = \"Certainly you get a dramatic boost from hello bye the the hi -iv iem-k q934*2yee !*3 2e38\"\n",
    "#print(f'Original text: {input_text}')\n",
    "print(f'Simple Cleaned text: {preprocessing(input_text)}')"
   ]
  },
  {
   "cell_type": "code",
   "execution_count": 20,
   "id": "1e22bbe1-d8da-49a8-8f40-f3daad1e7876",
   "metadata": {},
   "outputs": [],
   "source": [
    "train_df['Cleaned_Description'] = train_df.Description.apply(preprocessing)"
   ]
  },
  {
   "cell_type": "code",
   "execution_count": 21,
   "id": "6fb207b3-dc42-4ba4-aa2b-5fca87ee79a1",
   "metadata": {},
   "outputs": [
    {
     "data": {
      "text/html": [
       "<div>\n",
       "<style scoped>\n",
       "    .dataframe tbody tr th:only-of-type {\n",
       "        vertical-align: middle;\n",
       "    }\n",
       "\n",
       "    .dataframe tbody tr th {\n",
       "        vertical-align: top;\n",
       "    }\n",
       "\n",
       "    .dataframe thead th {\n",
       "        text-align: right;\n",
       "    }\n",
       "</style>\n",
       "<table border=\"1\" class=\"dataframe\">\n",
       "  <thead>\n",
       "    <tr style=\"text-align: right;\">\n",
       "      <th></th>\n",
       "      <th>Title</th>\n",
       "      <th>Genre</th>\n",
       "      <th>Description</th>\n",
       "      <th>Cleaned_Description</th>\n",
       "    </tr>\n",
       "  </thead>\n",
       "  <tbody>\n",
       "    <tr>\n",
       "      <th>1</th>\n",
       "      <td>Oscar et la dame rose (2009)</td>\n",
       "      <td>drama</td>\n",
       "      <td>Listening in to a conversation between his doc...</td>\n",
       "      <td>listening conversation doctor parents yearold ...</td>\n",
       "    </tr>\n",
       "    <tr>\n",
       "      <th>2</th>\n",
       "      <td>Cupid (1997)</td>\n",
       "      <td>thriller</td>\n",
       "      <td>A brother and sister with a past incestuous re...</td>\n",
       "      <td>brother sister past incestuous relationship cu...</td>\n",
       "    </tr>\n",
       "    <tr>\n",
       "      <th>3</th>\n",
       "      <td>Young, Wild and Wonderful (1980)</td>\n",
       "      <td>adult</td>\n",
       "      <td>As the bus empties the students for their fiel...</td>\n",
       "      <td>bus empties students field trip museum natural...</td>\n",
       "    </tr>\n",
       "    <tr>\n",
       "      <th>4</th>\n",
       "      <td>The Secret Sin (1915)</td>\n",
       "      <td>drama</td>\n",
       "      <td>To help their unemployed father make ends meet...</td>\n",
       "      <td>help unemployed father make ends meet edith tw...</td>\n",
       "    </tr>\n",
       "    <tr>\n",
       "      <th>5</th>\n",
       "      <td>The Unrecovered (2007)</td>\n",
       "      <td>drama</td>\n",
       "      <td>The film's title refers not only to the un-rec...</td>\n",
       "      <td>films title refers unrecovered bodies ground z...</td>\n",
       "    </tr>\n",
       "    <tr>\n",
       "      <th>...</th>\n",
       "      <td>...</td>\n",
       "      <td>...</td>\n",
       "      <td>...</td>\n",
       "      <td>...</td>\n",
       "    </tr>\n",
       "    <tr>\n",
       "      <th>54210</th>\n",
       "      <td>\"Bonino\" (1953)</td>\n",
       "      <td>comedy</td>\n",
       "      <td>This short-lived NBC live sitcom centered on B...</td>\n",
       "      <td>shortlived nbc live sitcom centered bonino wor...</td>\n",
       "    </tr>\n",
       "    <tr>\n",
       "      <th>54211</th>\n",
       "      <td>Dead Girls Don't Cry (????)</td>\n",
       "      <td>horror</td>\n",
       "      <td>The NEXT Generation of EXPLOITATION. The siste...</td>\n",
       "      <td>next generation exploitation sisters kapa bay ...</td>\n",
       "    </tr>\n",
       "    <tr>\n",
       "      <th>54212</th>\n",
       "      <td>Ronald Goedemondt: Ze bestaan echt (2008)</td>\n",
       "      <td>documentary</td>\n",
       "      <td>Ze bestaan echt, is a stand-up comedy about gr...</td>\n",
       "      <td>ze bestaan echt standup comedy growing facing ...</td>\n",
       "    </tr>\n",
       "    <tr>\n",
       "      <th>54213</th>\n",
       "      <td>Make Your Own Bed (1944)</td>\n",
       "      <td>comedy</td>\n",
       "      <td>Walter and Vivian live in the country and have...</td>\n",
       "      <td>walter vivian live country difficult time keep...</td>\n",
       "    </tr>\n",
       "    <tr>\n",
       "      <th>54214</th>\n",
       "      <td>Nature's Fury: Storm of the Century (2006)</td>\n",
       "      <td>history</td>\n",
       "      <td>On Labor Day Weekend, 1935, the most intense h...</td>\n",
       "      <td>labor day weekend intense hurricane ever make ...</td>\n",
       "    </tr>\n",
       "  </tbody>\n",
       "</table>\n",
       "<p>54214 rows × 4 columns</p>\n",
       "</div>"
      ],
      "text/plain": [
       "                                            Title        Genre  \\\n",
       "1                    Oscar et la dame rose (2009)        drama   \n",
       "2                                    Cupid (1997)     thriller   \n",
       "3                Young, Wild and Wonderful (1980)        adult   \n",
       "4                           The Secret Sin (1915)        drama   \n",
       "5                          The Unrecovered (2007)        drama   \n",
       "...                                           ...          ...   \n",
       "54210                             \"Bonino\" (1953)       comedy   \n",
       "54211                 Dead Girls Don't Cry (????)       horror   \n",
       "54212   Ronald Goedemondt: Ze bestaan echt (2008)  documentary   \n",
       "54213                    Make Your Own Bed (1944)       comedy   \n",
       "54214  Nature's Fury: Storm of the Century (2006)      history   \n",
       "\n",
       "                                             Description  \\\n",
       "1      Listening in to a conversation between his doc...   \n",
       "2      A brother and sister with a past incestuous re...   \n",
       "3      As the bus empties the students for their fiel...   \n",
       "4      To help their unemployed father make ends meet...   \n",
       "5      The film's title refers not only to the un-rec...   \n",
       "...                                                  ...   \n",
       "54210  This short-lived NBC live sitcom centered on B...   \n",
       "54211  The NEXT Generation of EXPLOITATION. The siste...   \n",
       "54212  Ze bestaan echt, is a stand-up comedy about gr...   \n",
       "54213  Walter and Vivian live in the country and have...   \n",
       "54214  On Labor Day Weekend, 1935, the most intense h...   \n",
       "\n",
       "                                     Cleaned_Description  \n",
       "1      listening conversation doctor parents yearold ...  \n",
       "2      brother sister past incestuous relationship cu...  \n",
       "3      bus empties students field trip museum natural...  \n",
       "4      help unemployed father make ends meet edith tw...  \n",
       "5      films title refers unrecovered bodies ground z...  \n",
       "...                                                  ...  \n",
       "54210  shortlived nbc live sitcom centered bonino wor...  \n",
       "54211  next generation exploitation sisters kapa bay ...  \n",
       "54212  ze bestaan echt standup comedy growing facing ...  \n",
       "54213  walter vivian live country difficult time keep...  \n",
       "54214  labor day weekend intense hurricane ever make ...  \n",
       "\n",
       "[54214 rows x 4 columns]"
      ]
     },
     "execution_count": 21,
     "metadata": {},
     "output_type": "execute_result"
    }
   ],
   "source": [
    "train_df"
   ]
  },
  {
   "cell_type": "code",
   "execution_count": 22,
   "id": "f68474e6-a41b-4b35-baaa-73df44cda2b7",
   "metadata": {},
   "outputs": [
    {
     "data": {
      "text/html": [
       "<div>\n",
       "<style scoped>\n",
       "    .dataframe tbody tr th:only-of-type {\n",
       "        vertical-align: middle;\n",
       "    }\n",
       "\n",
       "    .dataframe tbody tr th {\n",
       "        vertical-align: top;\n",
       "    }\n",
       "\n",
       "    .dataframe thead th {\n",
       "        text-align: right;\n",
       "    }\n",
       "</style>\n",
       "<table border=\"1\" class=\"dataframe\">\n",
       "  <thead>\n",
       "    <tr style=\"text-align: right;\">\n",
       "      <th></th>\n",
       "      <th>Genre</th>\n",
       "      <th>Description</th>\n",
       "      <th>Cleaned_Description</th>\n",
       "    </tr>\n",
       "  </thead>\n",
       "  <tbody>\n",
       "    <tr>\n",
       "      <th>1</th>\n",
       "      <td>drama</td>\n",
       "      <td>Listening in to a conversation between his doc...</td>\n",
       "      <td>listening conversation doctor parents yearold ...</td>\n",
       "    </tr>\n",
       "    <tr>\n",
       "      <th>2</th>\n",
       "      <td>thriller</td>\n",
       "      <td>A brother and sister with a past incestuous re...</td>\n",
       "      <td>brother sister past incestuous relationship cu...</td>\n",
       "    </tr>\n",
       "    <tr>\n",
       "      <th>3</th>\n",
       "      <td>adult</td>\n",
       "      <td>As the bus empties the students for their fiel...</td>\n",
       "      <td>bus empties students field trip museum natural...</td>\n",
       "    </tr>\n",
       "    <tr>\n",
       "      <th>4</th>\n",
       "      <td>drama</td>\n",
       "      <td>To help their unemployed father make ends meet...</td>\n",
       "      <td>help unemployed father make ends meet edith tw...</td>\n",
       "    </tr>\n",
       "    <tr>\n",
       "      <th>5</th>\n",
       "      <td>drama</td>\n",
       "      <td>The film's title refers not only to the un-rec...</td>\n",
       "      <td>films title refers unrecovered bodies ground z...</td>\n",
       "    </tr>\n",
       "    <tr>\n",
       "      <th>...</th>\n",
       "      <td>...</td>\n",
       "      <td>...</td>\n",
       "      <td>...</td>\n",
       "    </tr>\n",
       "    <tr>\n",
       "      <th>54210</th>\n",
       "      <td>comedy</td>\n",
       "      <td>This short-lived NBC live sitcom centered on B...</td>\n",
       "      <td>shortlived nbc live sitcom centered bonino wor...</td>\n",
       "    </tr>\n",
       "    <tr>\n",
       "      <th>54211</th>\n",
       "      <td>horror</td>\n",
       "      <td>The NEXT Generation of EXPLOITATION. The siste...</td>\n",
       "      <td>next generation exploitation sisters kapa bay ...</td>\n",
       "    </tr>\n",
       "    <tr>\n",
       "      <th>54212</th>\n",
       "      <td>documentary</td>\n",
       "      <td>Ze bestaan echt, is a stand-up comedy about gr...</td>\n",
       "      <td>ze bestaan echt standup comedy growing facing ...</td>\n",
       "    </tr>\n",
       "    <tr>\n",
       "      <th>54213</th>\n",
       "      <td>comedy</td>\n",
       "      <td>Walter and Vivian live in the country and have...</td>\n",
       "      <td>walter vivian live country difficult time keep...</td>\n",
       "    </tr>\n",
       "    <tr>\n",
       "      <th>54214</th>\n",
       "      <td>history</td>\n",
       "      <td>On Labor Day Weekend, 1935, the most intense h...</td>\n",
       "      <td>labor day weekend intense hurricane ever make ...</td>\n",
       "    </tr>\n",
       "  </tbody>\n",
       "</table>\n",
       "<p>54214 rows × 3 columns</p>\n",
       "</div>"
      ],
      "text/plain": [
       "             Genre                                        Description  \\\n",
       "1            drama  Listening in to a conversation between his doc...   \n",
       "2         thriller  A brother and sister with a past incestuous re...   \n",
       "3            adult  As the bus empties the students for their fiel...   \n",
       "4            drama  To help their unemployed father make ends meet...   \n",
       "5            drama  The film's title refers not only to the un-rec...   \n",
       "...            ...                                                ...   \n",
       "54210       comedy  This short-lived NBC live sitcom centered on B...   \n",
       "54211       horror  The NEXT Generation of EXPLOITATION. The siste...   \n",
       "54212  documentary  Ze bestaan echt, is a stand-up comedy about gr...   \n",
       "54213       comedy  Walter and Vivian live in the country and have...   \n",
       "54214      history  On Labor Day Weekend, 1935, the most intense h...   \n",
       "\n",
       "                                     Cleaned_Description  \n",
       "1      listening conversation doctor parents yearold ...  \n",
       "2      brother sister past incestuous relationship cu...  \n",
       "3      bus empties students field trip museum natural...  \n",
       "4      help unemployed father make ends meet edith tw...  \n",
       "5      films title refers unrecovered bodies ground z...  \n",
       "...                                                  ...  \n",
       "54210  shortlived nbc live sitcom centered bonino wor...  \n",
       "54211  next generation exploitation sisters kapa bay ...  \n",
       "54212  ze bestaan echt standup comedy growing facing ...  \n",
       "54213  walter vivian live country difficult time keep...  \n",
       "54214  labor day weekend intense hurricane ever make ...  \n",
       "\n",
       "[54214 rows x 3 columns]"
      ]
     },
     "execution_count": 22,
     "metadata": {},
     "output_type": "execute_result"
    }
   ],
   "source": [
    "train_df.drop(['Title'],axis=1) ##Eliminating Irrelevant Columns"
   ]
  },
  {
   "cell_type": "markdown",
   "id": "3d8a2ba5-12af-4d88-99be-021c42221cb8",
   "metadata": {},
   "source": [
    "### Data Visualization \n",
    "####"
   ]
  },
  {
   "cell_type": "code",
   "execution_count": 23,
   "id": "9f1fc3ab-ca76-49c3-b597-12f1f8dd1ea7",
   "metadata": {},
   "outputs": [
    {
     "data": {
      "image/png": "[encoded data removed]",
      "text/plain": [
       "<Figure size 2000x1000 with 1 Axes>"
      ]
     },
     "metadata": {},
     "output_type": "display_data"
    }
   ],
   "source": [
    "plt.figure(figsize=(20, 10))\n",
    "plt.hist(train_df[\"Genre\"],bins =27 , color='blue', alpha=0.7)\n",
    "plt.title(\"Genre Distribution\")\n",
    "plt.xlabel(\"Genres\")\n",
    "plt.ylabel(\"Frequency\")\n",
    "plt.xticks(rotation=90)\n",
    "plt.show()"
   ]
  },
  {
   "cell_type": "code",
   "execution_count": 24,
   "id": "02ececc4-1845-4df6-abe6-60a547293c83",
   "metadata": {},
   "outputs": [
    {
     "data": {
      "text/plain": [
       "drama          13613\n",
       "documentary    13096\n",
       "comedy          7447\n",
       "short           5073\n",
       "horror          2204\n",
       "thriller        1591\n",
       "action          1315\n",
       "western         1032\n",
       "reality-tv       884\n",
       "family           784\n",
       "adventure        775\n",
       "music            731\n",
       "romance          672\n",
       "sci-fi           647\n",
       "adult            590\n",
       "crime            505\n",
       "animation        498\n",
       "sport            432\n",
       "talk-show        391\n",
       "fantasy          323\n",
       "mystery          319\n",
       "musical          277\n",
       "biography        265\n",
       "history          243\n",
       "game-show        194\n",
       "news             181\n",
       "war              132\n",
       "Name: Genre, dtype: int64"
      ]
     },
     "execution_count": 24,
     "metadata": {},
     "output_type": "execute_result"
    }
   ],
   "source": [
    "genre_count = train_df.Genre.value_counts()\n",
    "genre_count"
   ]
  },
  {
   "cell_type": "code",
   "execution_count": 25,
   "id": "59eb5d77-9eda-4ccb-a4f5-832e60ab854d",
   "metadata": {},
   "outputs": [
    {
     "data": {
      "text/plain": [
       "Text(0, 0.5, 'Genre')"
      ]
     },
     "execution_count": 25,
     "metadata": {},
     "output_type": "execute_result"
    },
    {
     "data": {
      "image/png": "[encoded data removed]",
      "text/plain": [
       "<Figure size 2000x1000 with 1 Axes>"
      ]
     },
     "metadata": {},
     "output_type": "display_data"
    }
   ],
   "source": [
    "plt.figure(figsize=(20, 10))\n",
    "sns.barplot(x=genre_count, y=genre_count.index, orient='h')\n",
    "plt.title('Genre Distribution')\n",
    "plt.xlabel('Count')\n",
    "plt.ylabel('Genre')"
   ]
  },
  {
   "cell_type": "code",
   "execution_count": 26,
   "id": "78770dd0-39b7-4b43-92ef-5dea51c0e98f",
   "metadata": {},
   "outputs": [
    {
     "data": {
      "text/plain": [
       "54214"
      ]
     },
     "execution_count": 26,
     "metadata": {},
     "output_type": "execute_result"
    }
   ],
   "source": [
    "genre_total=genre_count.sum()\n",
    "genre_total"
   ]
  },
  {
   "cell_type": "code",
   "execution_count": 27,
   "id": "28a49f6e-9137-4fbf-9c24-381a215c1f17",
   "metadata": {},
   "outputs": [
    {
     "data": {
      "text/plain": [
       "drama          0.251098\n",
       "documentary    0.492659\n",
       "comedy         0.630022\n",
       "short          0.723595\n",
       "horror         0.764249\n",
       "thriller       0.793596\n",
       "action         0.817851\n",
       "western        0.836887\n",
       "reality-tv     0.853193\n",
       "family         0.867654\n",
       "adventure      0.881949\n",
       "music          0.895433\n",
       "romance        0.907828\n",
       "sci-fi         0.919762\n",
       "adult          0.930645\n",
       "crime          0.939960\n",
       "animation      0.949146\n",
       "sport          0.957114\n",
       "talk-show      0.964327\n",
       "fantasy        0.970284\n",
       "mystery        0.976169\n",
       "musical        0.981278\n",
       "biography      0.986166\n",
       "history        0.990648\n",
       "game-show      0.994227\n",
       "news           0.997565\n",
       "war            1.000000\n",
       "Name: Genre, dtype: float64"
      ]
     },
     "execution_count": 27,
     "metadata": {},
     "output_type": "execute_result"
    }
   ],
   "source": [
    "genre_cumulative=(genre_count/genre_total).cumsum()\n",
    "genre_cumulative"
   ]
  },
  {
   "cell_type": "code",
   "execution_count": 28,
   "id": "0f69609a-0a3f-4ac7-bffe-a9b8dfe69433",
   "metadata": {},
   "outputs": [
    {
     "data": {
      "text/plain": [
       "Text(0, 0.5, 'Genre')"
      ]
     },
     "execution_count": 28,
     "metadata": {},
     "output_type": "execute_result"
    },
    {
     "data": {
      "image/png": "[encoded data removed]",
      "text/plain": [
       "<Figure size 1500x1000 with 1 Axes>"
      ]
     },
     "metadata": {},
     "output_type": "display_data"
    }
   ],
   "source": [
    "plt.figure(figsize=(15, 10))\n",
    "sns.barplot(x=genre_cumulative, y=genre_count.index, orient='h')\n",
    "plt.title('Genre Probability')\n",
    "plt.xlabel('Probability')\n",
    "plt.ylabel('Genre')"
   ]
  },
  {
   "cell_type": "markdown",
   "id": "8922b11b-e0f9-4834-9bfb-3c3d2bf420e7",
   "metadata": {},
   "source": [
    "### Model Training \n",
    "####"
   ]
  },
  {
   "cell_type": "markdown",
   "id": "85800252-ccce-4099-a9df-4bfa6869c648",
   "metadata": {},
   "source": [
    "#### Encoding to transform"
   ]
  },
  {
   "cell_type": "code",
   "execution_count": 29,
   "id": "ed46fe04-954f-4f9b-9753-6000f48227fe",
   "metadata": {},
   "outputs": [],
   "source": [
    "from sklearn.preprocessing import LabelEncoder\n",
    "label_encoder = LabelEncoder()\n",
    "train_df['Encoded_Genre'] = label_encoder.fit_transform(train_df['Genre'])"
   ]
  },
  {
   "cell_type": "code",
   "execution_count": 30,
   "id": "a1b59983-5e99-420a-9b03-a4baf32c126b",
   "metadata": {},
   "outputs": [
    {
     "data": {
      "text/html": [
       "<div>\n",
       "<style scoped>\n",
       "    .dataframe tbody tr th:only-of-type {\n",
       "        vertical-align: middle;\n",
       "    }\n",
       "\n",
       "    .dataframe tbody tr th {\n",
       "        vertical-align: top;\n",
       "    }\n",
       "\n",
       "    .dataframe thead th {\n",
       "        text-align: right;\n",
       "    }\n",
       "</style>\n",
       "<table border=\"1\" class=\"dataframe\">\n",
       "  <thead>\n",
       "    <tr style=\"text-align: right;\">\n",
       "      <th></th>\n",
       "      <th>Title</th>\n",
       "      <th>Genre</th>\n",
       "      <th>Description</th>\n",
       "      <th>Cleaned_Description</th>\n",
       "      <th>Encoded_Genre</th>\n",
       "    </tr>\n",
       "  </thead>\n",
       "  <tbody>\n",
       "    <tr>\n",
       "      <th>1</th>\n",
       "      <td>Oscar et la dame rose (2009)</td>\n",
       "      <td>drama</td>\n",
       "      <td>Listening in to a conversation between his doc...</td>\n",
       "      <td>listening conversation doctor parents yearold ...</td>\n",
       "      <td>8</td>\n",
       "    </tr>\n",
       "    <tr>\n",
       "      <th>2</th>\n",
       "      <td>Cupid (1997)</td>\n",
       "      <td>thriller</td>\n",
       "      <td>A brother and sister with a past incestuous re...</td>\n",
       "      <td>brother sister past incestuous relationship cu...</td>\n",
       "      <td>24</td>\n",
       "    </tr>\n",
       "    <tr>\n",
       "      <th>3</th>\n",
       "      <td>Young, Wild and Wonderful (1980)</td>\n",
       "      <td>adult</td>\n",
       "      <td>As the bus empties the students for their fiel...</td>\n",
       "      <td>bus empties students field trip museum natural...</td>\n",
       "      <td>1</td>\n",
       "    </tr>\n",
       "    <tr>\n",
       "      <th>4</th>\n",
       "      <td>The Secret Sin (1915)</td>\n",
       "      <td>drama</td>\n",
       "      <td>To help their unemployed father make ends meet...</td>\n",
       "      <td>help unemployed father make ends meet edith tw...</td>\n",
       "      <td>8</td>\n",
       "    </tr>\n",
       "    <tr>\n",
       "      <th>5</th>\n",
       "      <td>The Unrecovered (2007)</td>\n",
       "      <td>drama</td>\n",
       "      <td>The film's title refers not only to the un-rec...</td>\n",
       "      <td>films title refers unrecovered bodies ground z...</td>\n",
       "      <td>8</td>\n",
       "    </tr>\n",
       "    <tr>\n",
       "      <th>...</th>\n",
       "      <td>...</td>\n",
       "      <td>...</td>\n",
       "      <td>...</td>\n",
       "      <td>...</td>\n",
       "      <td>...</td>\n",
       "    </tr>\n",
       "    <tr>\n",
       "      <th>54210</th>\n",
       "      <td>\"Bonino\" (1953)</td>\n",
       "      <td>comedy</td>\n",
       "      <td>This short-lived NBC live sitcom centered on B...</td>\n",
       "      <td>shortlived nbc live sitcom centered bonino wor...</td>\n",
       "      <td>5</td>\n",
       "    </tr>\n",
       "    <tr>\n",
       "      <th>54211</th>\n",
       "      <td>Dead Girls Don't Cry (????)</td>\n",
       "      <td>horror</td>\n",
       "      <td>The NEXT Generation of EXPLOITATION. The siste...</td>\n",
       "      <td>next generation exploitation sisters kapa bay ...</td>\n",
       "      <td>13</td>\n",
       "    </tr>\n",
       "    <tr>\n",
       "      <th>54212</th>\n",
       "      <td>Ronald Goedemondt: Ze bestaan echt (2008)</td>\n",
       "      <td>documentary</td>\n",
       "      <td>Ze bestaan echt, is a stand-up comedy about gr...</td>\n",
       "      <td>ze bestaan echt standup comedy growing facing ...</td>\n",
       "      <td>7</td>\n",
       "    </tr>\n",
       "    <tr>\n",
       "      <th>54213</th>\n",
       "      <td>Make Your Own Bed (1944)</td>\n",
       "      <td>comedy</td>\n",
       "      <td>Walter and Vivian live in the country and have...</td>\n",
       "      <td>walter vivian live country difficult time keep...</td>\n",
       "      <td>5</td>\n",
       "    </tr>\n",
       "    <tr>\n",
       "      <th>54214</th>\n",
       "      <td>Nature's Fury: Storm of the Century (2006)</td>\n",
       "      <td>history</td>\n",
       "      <td>On Labor Day Weekend, 1935, the most intense h...</td>\n",
       "      <td>labor day weekend intense hurricane ever make ...</td>\n",
       "      <td>12</td>\n",
       "    </tr>\n",
       "  </tbody>\n",
       "</table>\n",
       "<p>54214 rows × 5 columns</p>\n",
       "</div>"
      ],
      "text/plain": [
       "                                            Title        Genre  \\\n",
       "1                    Oscar et la dame rose (2009)        drama   \n",
       "2                                    Cupid (1997)     thriller   \n",
       "3                Young, Wild and Wonderful (1980)        adult   \n",
       "4                           The Secret Sin (1915)        drama   \n",
       "5                          The Unrecovered (2007)        drama   \n",
       "...                                           ...          ...   \n",
       "54210                             \"Bonino\" (1953)       comedy   \n",
       "54211                 Dead Girls Don't Cry (????)       horror   \n",
       "54212   Ronald Goedemondt: Ze bestaan echt (2008)  documentary   \n",
       "54213                    Make Your Own Bed (1944)       comedy   \n",
       "54214  Nature's Fury: Storm of the Century (2006)      history   \n",
       "\n",
       "                                             Description  \\\n",
       "1      Listening in to a conversation between his doc...   \n",
       "2      A brother and sister with a past incestuous re...   \n",
       "3      As the bus empties the students for their fiel...   \n",
       "4      To help their unemployed father make ends meet...   \n",
       "5      The film's title refers not only to the un-rec...   \n",
       "...                                                  ...   \n",
       "54210  This short-lived NBC live sitcom centered on B...   \n",
       "54211  The NEXT Generation of EXPLOITATION. The siste...   \n",
       "54212  Ze bestaan echt, is a stand-up comedy about gr...   \n",
       "54213  Walter and Vivian live in the country and have...   \n",
       "54214  On Labor Day Weekend, 1935, the most intense h...   \n",
       "\n",
       "                                     Cleaned_Description  Encoded_Genre  \n",
       "1      listening conversation doctor parents yearold ...              8  \n",
       "2      brother sister past incestuous relationship cu...             24  \n",
       "3      bus empties students field trip museum natural...              1  \n",
       "4      help unemployed father make ends meet edith tw...              8  \n",
       "5      films title refers unrecovered bodies ground z...              8  \n",
       "...                                                  ...            ...  \n",
       "54210  shortlived nbc live sitcom centered bonino wor...              5  \n",
       "54211  next generation exploitation sisters kapa bay ...             13  \n",
       "54212  ze bestaan echt standup comedy growing facing ...              7  \n",
       "54213  walter vivian live country difficult time keep...              5  \n",
       "54214  labor day weekend intense hurricane ever make ...             12  \n",
       "\n",
       "[54214 rows x 5 columns]"
      ]
     },
     "execution_count": 30,
     "metadata": {},
     "output_type": "execute_result"
    }
   ],
   "source": [
    "train_df"
   ]
  },
  {
   "cell_type": "code",
   "execution_count": 31,
   "id": "5dd5a940-2e47-4cb5-8147-9d2176cba0db",
   "metadata": {},
   "outputs": [],
   "source": [
    "from sklearn.linear_model import LogisticRegression\n",
    "from sklearn.feature_extraction.text import CountVectorizer\n",
    "from sklearn.feature_extraction.text import TfidfVectorizer\n",
    "from sklearn.model_selection import train_test_split\n",
    "from sklearn.metrics import classification_report,confusion_matrix,ConfusionMatrixDisplay"
   ]
  },
  {
   "cell_type": "code",
   "execution_count": 32,
   "id": "d3bb367a-9fb8-44a5-ae25-96848f6421a5",
   "metadata": {},
   "outputs": [],
   "source": [
    "x = train_df[\"Cleaned_Description\"]\n",
    "y = train_df[\"Genre\"]\n",
    "\n",
    "x_train ,x_test ,y_train ,y_test = train_test_split(x ,y ,test_size = 0.3)"
   ]
  },
  {
   "cell_type": "code",
   "execution_count": null,
   "id": "75eed87d-7a5f-4228-b301-948211eba2cf",
   "metadata": {},
   "outputs": [],
   "source": []
  },
  {
   "cell_type": "code",
   "execution_count": 33,
   "id": "f387eb8e-c959-43f7-b785-031c11726140",
   "metadata": {},
   "outputs": [
    {
     "data": {
      "text/plain": [
       "39174    brazil group people live lives dictatorship eu...\n",
       "7488     story david classic story told modern times st...\n",
       "5672     bennie somewhat reluctant drug courier korean ...\n",
       "12875    za chlebem bread expression used poland since ...\n",
       "16863    army officer bahadur singh recalled duty day w...\n",
       "                               ...                        \n",
       "37653    last song tells bittersweet story somying dawr...\n",
       "8921     western sahara immense desert area atlantic co...\n",
       "15605    rusty young backpacking south america heard th...\n",
       "53867    professor green sets discover modern face home...\n",
       "16894    psychiatric nurse toni helps suicidewatch pati...\n",
       "Name: Cleaned_Description, Length: 16265, dtype: object"
      ]
     },
     "execution_count": 33,
     "metadata": {},
     "output_type": "execute_result"
    }
   ],
   "source": [
    "x_test"
   ]
  },
  {
   "cell_type": "markdown",
   "id": "fba5f100-bd19-4fc0-83d0-047ac3c2d51e",
   "metadata": {},
   "source": [
    "### Logistic Regression"
   ]
  },
  {
   "cell_type": "markdown",
   "id": "2c6f2046-f4bc-4b73-939e-af8e22e58d8a",
   "metadata": {},
   "source": [
    "##### Model training using CountVectorizer technique"
   ]
  },
  {
   "cell_type": "code",
   "execution_count": 34,
   "id": "fd09dad1-84a8-4584-a57b-d670f0c74156",
   "metadata": {},
   "outputs": [],
   "source": [
    "vectorize = CountVectorizer()\n",
    "x_train_vec = vectorize.fit_transform(x_train)\n",
    "x_test_vec =  vectorize.transform(x_test)"
   ]
  },
  {
   "cell_type": "code",
   "execution_count": 35,
   "id": "d7dfa41b-735b-4da7-9710-6c12b90ea319",
   "metadata": {},
   "outputs": [
    {
     "data": {
      "text/plain": [
       "<37949x119254 sparse matrix of type '<class 'numpy.int64'>'\n",
       "\twith 1849847 stored elements in Compressed Sparse Row format>"
      ]
     },
     "execution_count": 35,
     "metadata": {},
     "output_type": "execute_result"
    }
   ],
   "source": [
    "x_train_vec"
   ]
  },
  {
   "cell_type": "code",
   "execution_count": 36,
   "id": "4eb66e14-de98-42bd-aabe-39eabe07e724",
   "metadata": {},
   "outputs": [
    {
     "data": {
      "text/plain": [
       "<16265x119254 sparse matrix of type '<class 'numpy.int64'>'\n",
       "\twith 762651 stored elements in Compressed Sparse Row format>"
      ]
     },
     "execution_count": 36,
     "metadata": {},
     "output_type": "execute_result"
    }
   ],
   "source": [
    "x_test_vec"
   ]
  },
  {
   "cell_type": "code",
   "execution_count": 37,
   "id": "97306b3a-1da1-48dc-a635-fc691240900a",
   "metadata": {},
   "outputs": [
    {
     "data": {
      "text/plain": [
       "['action',\n",
       " 'adult',\n",
       " 'adventure',\n",
       " 'animation',\n",
       " 'biography',\n",
       " 'comedy',\n",
       " 'crime',\n",
       " 'documentary',\n",
       " 'drama',\n",
       " 'family',\n",
       " 'fantasy',\n",
       " 'game-show',\n",
       " 'history',\n",
       " 'horror',\n",
       " 'music',\n",
       " 'musical',\n",
       " 'mystery',\n",
       " 'news',\n",
       " 'reality-tv',\n",
       " 'romance',\n",
       " 'sci-fi',\n",
       " 'short',\n",
       " 'sport',\n",
       " 'talk-show',\n",
       " 'thriller',\n",
       " 'war',\n",
       " 'western']"
      ]
     },
     "execution_count": 37,
     "metadata": {},
     "output_type": "execute_result"
    }
   ],
   "source": [
    "class_names= list(label_encoder.classes_)\n",
    "class_names   "
   ]
  },
  {
   "cell_type": "code",
   "execution_count": null,
   "id": "d60218b9-202d-4f7c-8b14-d1d580a3673c",
   "metadata": {},
   "outputs": [],
   "source": [
    "model = LogisticRegression(random_state=0, max_iter=10000)\n",
    "model.fit(x_train_vec ,y_train)\n",
    "print(\"Model Score on Training data\",model.score(x_train_vec ,y_train))\n",
    "print(\"Model Score on Training data\",model.score(x_test_vec ,y_test))\n",
    "y_pred = model.predict(x_test_vec)\n",
    "print(classification_report(y_pred ,y_test))\n",
    "\n",
    "\n",
    "cm = confusion_matrix(y_test, y_pred)\n",
    "\n",
    "plt.figure(figsize=(15, 15))  # Adjust the figure size as needed\n",
    "sns.heatmap(cm, annot=True, fmt='d', cbar=False, \n",
    "            xticklabels=class_names, yticklabels=class_names)  # Replace 'class_names' with your class labels\n",
    "plt.xlabel('Predicted Labels')\n",
    "plt.ylabel('True Labels')\n",
    "plt.title('Confusion Matrix Heatmap')\n",
    "plt.show()"
   ]
  },
  {
   "cell_type": "code",
   "execution_count": null,
   "id": "b20fe21a-6926-474a-bec8-955a240ed6fc",
   "metadata": {},
   "outputs": [],
   "source": []
  },
  {
   "cell_type": "markdown",
   "id": "68f6ce7f-d09f-4e70-b8e9-dfd57e2d3b32",
   "metadata": {},
   "source": [
    "##### Model training without CountVectorizer technique"
   ]
  },
  {
   "cell_type": "markdown",
   "id": "f6ad5d33-d9df-4543-ace0-99fe5fae6d74",
   "metadata": {},
   "source": [
    "model = LogisticRegression()\n",
    "model.fit(x_train ,y_train)\n",
    "print(\"Model Score on Training data\",model.score(x_train ,y_train))\n",
    "print(\"Model Score on Training data\",model.score(x_test ,y_test))\n",
    "y_pred = model.predict(x_test)\n",
    "print(classification_report(y_pred ,y_test))\n",
    "\n",
    "\n",
    "cm = confusion_matrix(y_test, y_pred)\n",
    "\n",
    "plt.figure(figsize=(15, 15))  # Adjust the figure size as needed\n",
    "sns.heatmap(cm, annot=True, fmt='d', cbar=False, \n",
    "            xticklabels=class_names, yticklabels=class_names)  # Replace 'class_names' with your class labels\n",
    "plt.xlabel('Predicted Labels')\n",
    "plt.ylabel('True Labels')\n",
    "plt.title('Confusion Matrix Heatmap')\n",
    "plt.show()"
   ]
  },
  {
   "cell_type": "markdown",
   "id": "614c1131-9890-44cd-ac1f-1bad5ad7ddb7",
   "metadata": {},
   "source": [
    "## Prediction on Test Dataset "
   ]
  },
  {
   "cell_type": "code",
   "execution_count": null,
   "id": "259b8668-fbc1-4a5e-839b-9aa54c899bd0",
   "metadata": {},
   "outputs": [],
   "source": [
    "#test_df = pd.read_csv('test_data.csv', delimiter=' ::: ',header= None ,engine='python', names=['Title','Description'])"
   ]
  },
  {
   "cell_type": "code",
   "execution_count": null,
   "id": "fa725109-c207-4a4f-8d54-ea7dd1f7e373",
   "metadata": {},
   "outputs": [],
   "source": [
    "#test_df"
   ]
  },
  {
   "cell_type": "code",
   "execution_count": null,
   "id": "28916a6a-ace3-4fdf-819e-06d0001325f6",
   "metadata": {},
   "outputs": [],
   "source": [
    "test_df['Cleaned_Description'] = test_df.Description.apply(preprocessing)\n",
    "test_df=test_df.drop(['Title','Description'],axis=1)"
   ]
  },
  {
   "cell_type": "code",
   "execution_count": null,
   "id": "fabb1fc3-b74a-4d5a-8ecb-d3c82b7ba2ee",
   "metadata": {},
   "outputs": [],
   "source": [
    "test_df"
   ]
  },
  {
   "cell_type": "code",
   "execution_count": null,
   "id": "6b176bce-2e88-4a8a-b8fa-f4224cbcb7ff",
   "metadata": {},
   "outputs": [],
   "source": [
    "x_test_2 =  vectorize.transform(test_df['Cleaned_Description'])"
   ]
  },
  {
   "cell_type": "code",
   "execution_count": null,
   "id": "37f5a39f-06af-4329-a153-d66ceea22125",
   "metadata": {},
   "outputs": [],
   "source": [
    "model.fit(x_train_vec ,y_train)\n"
   ]
  },
  {
   "cell_type": "code",
   "execution_count": null,
   "id": "d2bd49c1-039a-4ada-8773-eed4b2a1b91a",
   "metadata": {},
   "outputs": [],
   "source": [
    "test_df['Genre_predicted']=model.predict(x_test_2)"
   ]
  },
  {
   "cell_type": "code",
   "execution_count": null,
   "id": "01a2d844-bbb8-469e-a7c4-179fa8385704",
   "metadata": {},
   "outputs": [],
   "source": [
    "test_df"
   ]
  },
  {
   "cell_type": "markdown",
   "id": "db3f47d4-a5b1-424f-9272-ff150aea7056",
   "metadata": {},
   "source": [
    "### MultinomialNB"
   ]
  },
  {
   "cell_type": "code",
   "execution_count": null,
   "id": "2a964177-2fef-4dd4-b450-f3475cefc88a",
   "metadata": {},
   "outputs": [],
   "source": [
    "mnb = MultinomialNB()\n",
    "mnb.fit(x_train1 ,y_train)\n",
    "print(\"Model Score on Training data\",mnb.score(x_train1 ,y_train))\n",
    "print(\"Model Score on Training data\",mnb.score(x_test1 ,y_test))\n",
    "y_pred = mnb.predict(x_test1)\n",
    "\n",
    "print(classification_report(y_pred ,y_test))\n",
    " \n",
    "cm = confusion_matrix(y_test, y_pred)\n",
    "\n",
    "plt.figure(figsize=(15, 15))  # Adjust the figure size as needed\n",
    "sns.heatmap(cm, annot=True, fmt='d', cbar=False, \n",
    "            xticklabels=class_names, yticklabels=class_names)  # Replace 'class_names' with your class labels\n",
    "plt.xlabel('Predicted Labels')\n",
    "plt.ylabel('True Labels')\n",
    "plt.title('Confusion Matrix Heatmap')\n",
    "plt.show()    "
   ]
  },
  {
   "cell_type": "code",
   "execution_count": null,
   "id": "704445f4-d675-42fd-8311-8578b0013ff3",
   "metadata": {},
   "outputs": [],
   "source": [
    "mnb.fit(x_train1 ,y_train)\n",
    "test_df['Genre_predicted']=mnb.predict(x_test_2)\n",
    "test_df"
   ]
  }
 ],
 "metadata": {
  "kernelspec": {
   "display_name": "Python 3 (ipykernel)",
   "language": "python",
   "name": "python3"
  },
  "language_info": {
   "codemirror_mode": {
    "name": "ipython",
    "version": 3
   },
   "file_extension": ".py",
   "mimetype": "text/x-python",
   "name": "python",
   "nbconvert_exporter": "python",
   "pygments_lexer": "ipython3",
   "version": "3.10.4"
  }
 },
 "nbformat": 4,
 "nbformat_minor": 5
}
